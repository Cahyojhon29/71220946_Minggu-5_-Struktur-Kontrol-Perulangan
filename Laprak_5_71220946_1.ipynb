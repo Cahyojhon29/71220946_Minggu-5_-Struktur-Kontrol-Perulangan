{
  "nbformat": 4,
  "nbformat_minor": 0,
  "metadata": {
    "colab": {
      "provenance": []
    },
    "kernelspec": {
      "name": "python3",
      "display_name": "Python 3"
    },
    "language_info": {
      "name": "python"
    }
  },
  "cells": [
    {
      "cell_type": "code",
      "execution_count": null,
      "metadata": {
        "id": "Jyan-2PBk_6h"
      },
      "outputs": [],
      "source": [
        "def perkalian(a, b):\n",
        "    hasil = 0\n",
        "    for _ in range(b):\n",
        "        hasil += a\n",
        "    return hasil\n",
        "\n",
        "def tampilkan_perkalian_dengan_penjumlahan(angka1, angka2):\n",
        "    hasil_perkalian = perkalian(angka1, angka2)\n",
        "\n",
        "    print(f\"{angka1} x {angka2} = \", end=\"\")\n",
        "    for i in range(angka2):\n",
        "        if i < angka2 - 1:\n",
        "            print(f\"{angka1} + \", end=\"\")\n",
        "        else:\n",
        "            print(f\"{angka1} = {hasil_perkalian}\")\n",
        "\n",
        "def main():\n",
        "    tampilkan_perkalian_dengan_penjumlahan(6, 5)\n",
        "    tampilkan_perkalian_dengan_penjumlahan(7, 10)\n",
        "\n",
        "if __name__ == \"__main__\":\n",
        "    main()\n"
      ]
    }
  ]
}
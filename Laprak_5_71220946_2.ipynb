{
  "nbformat": 4,
  "nbformat_minor": 0,
  "metadata": {
    "colab": {
      "provenance": []
    },
    "kernelspec": {
      "name": "python3",
      "display_name": "Python 3"
    },
    "language_info": {
      "name": "python"
    }
  },
  "cells": [
    {
      "cell_type": "code",
      "execution_count": null,
      "metadata": {
        "id": "lDcKp_CKlDbh"
      },
      "outputs": [],
      "source": [
        "def ganjil(bawah, atas):\n",
        "    deret_ganjil = []\n",
        "\n",
        "    if bawah < atas:\n",
        "        for i in range(bawah, atas + 1):\n",
        "            if i % 2 != 0:\n",
        "                deret_ganjil.append(i)\n",
        "    else:\n",
        "        for i in range(bawah, atas - 1, -1):\n",
        "            if i % 2 != 0:\n",
        "                deret_ganjil.append(i)\n",
        "\n",
        "    return deret_ganjil\n",
        "\n",
        "def main():\n",
        "    batas_bawah = int(input(\"Masukkan batas bawah: \"))\n",
        "    batas_atas = int(input(\"Masukkan batas atas: \"))\n",
        "\n",
        "    hasil_deret_ganjil = ganjil(batas_bawah, batas_atas)\n",
        "\n",
        "    if batas_bawah < batas_atas:\n",
        "        print(f\"Deret ganjil dari {batas_bawah} hingga {batas_atas}: {hasil_deret_ganjil}\")\n",
        "    else:\n",
        "        print(f\"Deret ganjil dari {batas_atas} hingga {batas_bawah}: {hasil_deret_ganjil}\")\n",
        "\n",
        "if __name__ == \"__main__\":\n",
        "    main()\n"
      ]
    }
  ]
}
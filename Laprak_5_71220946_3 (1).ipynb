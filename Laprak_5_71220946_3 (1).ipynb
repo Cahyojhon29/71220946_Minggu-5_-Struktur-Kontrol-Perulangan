{
  "nbformat": 4,
  "nbformat_minor": 0,
  "metadata": {
    "colab": {
      "provenance": []
    },
    "kernelspec": {
      "name": "python3",
      "display_name": "Python 3"
    },
    "language_info": {
      "name": "python"
    }
  },
  "cells": [
    {
      "cell_type": "code",
      "execution_count": null,
      "metadata": {
        "id": "SwMvtXYrlCmB"
      },
      "outputs": [],
      "source": [
        "def hitung_ips(jumlah_matkul):\n",
        "    total_sks = jumlah_matkul * 3\n",
        "    total_bobot = 0\n",
        "\n",
        "    for i in range(jumlah_matkul):\n",
        "        nilai = input(f\"Nilai MK {i+1}: \")\n",
        "\n",
        "        if nilai == 'A':\n",
        "            total_bobot += 4 * 3\n",
        "        elif nilai == 'B':\n",
        "            total_bobot += 3 * 3\n",
        "        elif nilai == 'C':\n",
        "            total_bobot += 2 * 3\n",
        "        elif nilai == 'D':\n",
        "            total_bobot += 1 * 3\n",
        "        else:\n",
        "            print(\"Input nilai tidak valid. Masukkan nilai A, B, C, atau D.\")\n",
        "\n",
        "    ips = total_bobot / total_sks\n",
        "    return ips\n",
        "\n",
        "def main():\n",
        "    jumlah_matkul = int(input(\"Berapa jumlah mata kuliah? \"))\n",
        "    ips = hitung_ips(jumlah_matkul)\n",
        "    print(f\"Nilai IPS anda semester ini {ips:.2f}\")\n",
        "\n",
        "if __name__ == \"__main__\":\n",
        "    main()\n"
      ]
    }
  ]
}